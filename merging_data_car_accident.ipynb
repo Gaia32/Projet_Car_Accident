{
 "cells": [
  {
   "cell_type": "markdown",
   "metadata": {},
   "source": []
  },
  {
   "cell_type": "markdown",
   "metadata": {},
   "source": [
    "<hr style=\"border-width:2px;border-color:##75DFC1\">\n",
    "<center> <h1 style = \"text-align:center\" > PROJET DE DATA SCIENCE </h1> </center> \n",
    "<center> <h2 style = \"text-align:center\" > Accidents corporels de la circulation routière - Années de 2005 à 2022</h2> </center> \n",
    "<hr style=\"border-width:2px;border-color:##75DFC1\">\n",
    "\n",
    "__Description de la base de donnée:__\n",
    "\n",
    "Il y a 5 fichiers par année (carac, vehicule, lieux , usagers, immat).\n",
    "Ce jupyter notebook sert à  merger les 4 fichiers (carac, vehicule, lieux , usagers). L efichier immat pourra être ajouté après (si je trouve sur quoi le merger).\n",
    "\n",
    "Les données sont dans __C:\\Users\\Gaia\\Desktop\\Mahaut\\DATASCIENCE\\DATASCIENTEST\\projet\\raw_data__.\n",
    "\n",
    "* (a) D'abord Chargeons tous les packages dont nous aurons besoin."
   ]
  },
  {
   "cell_type": "code",
   "execution_count": 1,
   "metadata": {},
   "outputs": [],
   "source": [
    "## packages pour l'explo des données et la visualisation\n",
    "\n",
    "import numpy as np\n",
    "import pandas as pd\n"
   ]
  },
  {
   "cell_type": "markdown",
   "metadata": {},
   "source": [
    "* (b) Ensuite, nous mergeons les csv ensemble par année. /!\\ il faut être dans le même répertoire que les fichiers"
   ]
  },
  {
   "cell_type": "code",
   "execution_count": 2,
   "metadata": {},
   "outputs": [],
   "source": [
    "import os\n",
    "\n",
    "# Directory containing the files I want to merge\n",
    "directory = './'\n",
    "\n",
    "# List all files in the directory\n",
    "files = os.listdir(directory)"
   ]
  },
  {
   "cell_type": "markdown",
   "metadata": {},
   "source": [
    "* (b) 1- Immatriculation"
   ]
  },
  {
   "cell_type": "code",
   "execution_count": 17,
   "metadata": {},
   "outputs": [
    {
     "name": "stderr",
     "output_type": "stream",
     "text": [
      "C:\\Users\\Gaia\\AppData\\Local\\Temp\\ipykernel_21420\\3879571011.py:18: DtypeWarning: Columns (7) have mixed types. Specify dtype option on import or set low_memory=False.\n",
      "  df = pd.read_csv(file, sep=';')\n"
     ]
    }
   ],
   "source": [
    "\n",
    "# Filter only the files beginning with vehicules-immatricules --> 13 files\n",
    "csv_files = [file for file in files if file.startswith('vehicules-immatricules-baac')]\n",
    "\n",
    "# Initialize an empty list to store dataframes\n",
    "dfs = []\n",
    "\n",
    "# Loop through each CSV file, read it as a dataframe, and append to dfs list\n",
    "for file in csv_files:\n",
    "    #filepath = os.path.join(directory, file)\n",
    "    df = pd.read_csv(file, sep=';')\n",
    "    dfs.append(df)\n",
    "\n",
    "# Concatenate all dataframes into a single dataframe\n",
    "merged_df = pd.concat(dfs, ignore_index=True)\n",
    "\n",
    "# Save the merged dataframe to a new CSV file\n",
    "merged_df.to_csv('immat_merged.csv', index=False)"
   ]
  },
  {
   "cell_type": "markdown",
   "metadata": {},
   "source": [
    "* (b) 2- Caractéristiques.\n",
    " \n",
    "> /!\\ attention, avant 2019, le séparateur est un ',' et à partir de 2019  un \";\". Le séparateur est un \\t pour l'année 2009. Et il y a plein d'erreurs d'encodage.\n",
    "\n",
    "> Pour 2022, le nom de \"Num_Acc\" est \"Accident_id\", j'ai remplacé à la main le nom de la colonne."
   ]
  },
  {
   "cell_type": "code",
   "execution_count": 5,
   "metadata": {
    "tags": [
     "hide"
    ]
   },
   "outputs": [
    {
     "name": "stdout",
     "output_type": "stream",
     "text": [
      "caracteristiques-2005.csv\n",
      "caracteristiques-2006.csv\n",
      "caracteristiques-2007.csv\n",
      "caracteristiques-2008.csv\n",
      "caracteristiques-2009.csv\n",
      "caracteristiques-2010.csv\n",
      "caracteristiques-2011.csv\n",
      "caracteristiques-2012.csv\n",
      "caracteristiques-2013.csv\n",
      "caracteristiques-2014.csv\n",
      "caracteristiques-2015.csv\n",
      "caracteristiques-2016.csv\n",
      "caracteristiques-2017.csv\n",
      "caracteristiques-2018.csv\n",
      "caracteristiques-2019.csv\n",
      "caracteristiques-2020.csv\n",
      "caracteristiques-2021.csv\n",
      "caracteristiques-2022.csv\n"
     ]
    }
   ],
   "source": [
    "# Filter only the files beginning with caractéristiques --> 18 files\n",
    "csv_files = [file for file in files if file.startswith('caracteristiques')]\n",
    "\n",
    "dfs = []\n",
    "tuple_sep_1 = tuple(str(year) + \".csv\" for year in range(2005, 2009))\n",
    "tuple_sep_3 = tuple(str(year) + \".csv\" for year in range(2010, 2019))\n",
    "tuple_sep_2 = tuple(str(year) + \".csv\" for year in range(2019, 2023))\n",
    "\n",
    "for file in csv_files:\n",
    "    filepath = os.path.join(directory, file)\n",
    "    print(file)\n",
    "    try:\n",
    "        if file.endswith(tuple_sep_1) or file.endswith(tuple_sep_3):\n",
    "            df = pd.read_csv(filepath, sep=',', encoding='utf-8')\n",
    "        elif file.endswith(tuple_sep_2):\n",
    "            df = pd.read_csv(filepath, sep=';', encoding='utf-8')\n",
    "        elif file.endswith(\"-2009.csv\"):\n",
    "            df = pd.read_csv(filepath, sep='\\t', encoding='utf-8')  \n",
    "        dfs.append(df)\n",
    "        \n",
    "    except UnicodeDecodeError:\n",
    "        try:\n",
    "            if file.endswith(tuple_sep_1) or file.endswith(tuple_sep_3):\n",
    "                df = pd.read_csv(filepath, sep=',', encoding='latin-1')\n",
    "            elif file.endswith(tuple_sep_2):\n",
    "                df = pd.read_csv(filepath, sep=';', encoding='latin-1')\n",
    "            elif file.endswith(\"-2009.csv\"):\n",
    "                df = pd.read_csv(filepath, sep='\\t', encoding='latin-1')\n",
    "            dfs.append(df)\n",
    "        except UnicodeDecodeError:\n",
    "            print(f\"UnicodeDecodeError: Unable to decode file {file}\")\n",
    "\n",
    "merged_df = pd.concat(dfs, ignore_index=True)\n",
    "merged_df.to_csv('carac_merged.csv', index=False)"
   ]
  },
  {
   "cell_type": "markdown",
   "metadata": {},
   "source": [
    "* (b) 3- lieux"
   ]
  },
  {
   "cell_type": "code",
   "execution_count": 20,
   "metadata": {},
   "outputs": [
    {
     "name": "stdout",
     "output_type": "stream",
     "text": [
      "lieux-2005.csv\n",
      "lieux-2006.csv\n",
      "lieux-2007.csv\n",
      "lieux-2008.csv\n",
      "lieux-2009.csv\n",
      "lieux-2010.csv\n",
      "lieux-2011.csv\n",
      "lieux-2012.csv\n",
      "lieux-2013.csv\n",
      "lieux-2014.csv\n",
      "lieux-2015.csv\n",
      "lieux-2016.csv\n",
      "lieux-2017.csv\n"
     ]
    },
    {
     "name": "stderr",
     "output_type": "stream",
     "text": [
      "C:\\Users\\Gaia\\AppData\\Local\\Temp\\ipykernel_3268\\960929714.py:12: DtypeWarning: Columns (2) have mixed types. Specify dtype option on import or set low_memory=False.\n",
      "  df = pd.read_csv(file, sep=',')\n",
      "C:\\Users\\Gaia\\AppData\\Local\\Temp\\ipykernel_3268\\960929714.py:12: DtypeWarning: Columns (2) have mixed types. Specify dtype option on import or set low_memory=False.\n",
      "  df = pd.read_csv(file, sep=',')\n"
     ]
    },
    {
     "name": "stdout",
     "output_type": "stream",
     "text": [
      "lieux-2018.csv\n",
      "lieux-2019.csv\n"
     ]
    },
    {
     "name": "stderr",
     "output_type": "stream",
     "text": [
      "C:\\Users\\Gaia\\AppData\\Local\\Temp\\ipykernel_3268\\960929714.py:12: DtypeWarning: Columns (2) have mixed types. Specify dtype option on import or set low_memory=False.\n",
      "  df = pd.read_csv(file, sep=',')\n"
     ]
    },
    {
     "name": "stdout",
     "output_type": "stream",
     "text": [
      "lieux-2020.csv\n",
      "lieux-2021.csv\n",
      "lieux-2022.csv\n"
     ]
    },
    {
     "name": "stderr",
     "output_type": "stream",
     "text": [
      "C:\\Users\\Gaia\\AppData\\Local\\Temp\\ipykernel_3268\\960929714.py:14: DtypeWarning: Columns (6) have mixed types. Specify dtype option on import or set low_memory=False.\n",
      "  df = pd.read_csv(file, sep=';')\n"
     ]
    }
   ],
   "source": [
    "# Filter only the files beginning with lieux --> 18 files\n",
    "csv_files = [file for file in files if file.startswith('lieux')]\n",
    "\n",
    "dfs = []\n",
    "tuple_sep_1 = tuple(str(year) + \".csv\" for year in range(2005, 2019))\n",
    "tuple_sep_2 = tuple(str(year) + \".csv\" for year in range(2019, 2023))\n",
    "\n",
    "for file in csv_files:\n",
    "    filepath = os.path.join(directory, file)\n",
    "    print(file)\n",
    "    if file.endswith(tuple_sep_1):\n",
    "        df = pd.read_csv(file, sep=',')\n",
    "    elif file.endswith(tuple_sep_2):\n",
    "        df = pd.read_csv(file, sep=';')\n",
    "    dfs.append(df)\n",
    "\n",
    "merged_df = pd.concat(dfs, ignore_index=True)\n",
    "merged_df.to_csv('lieux_merged.csv', index=False)"
   ]
  },
  {
   "cell_type": "markdown",
   "metadata": {},
   "source": [
    "* (b) 4- usagers"
   ]
  },
  {
   "cell_type": "code",
   "execution_count": 21,
   "metadata": {},
   "outputs": [
    {
     "name": "stdout",
     "output_type": "stream",
     "text": [
      "usagers-2005.csv\n",
      "usagers-2006.csv\n",
      "usagers-2007.csv\n",
      "usagers-2008.csv\n",
      "usagers-2009.csv\n",
      "usagers-2010.csv\n",
      "usagers-2011.csv\n",
      "usagers-2012.csv\n",
      "usagers-2013.csv\n",
      "usagers-2014.csv\n",
      "usagers-2015.csv\n",
      "usagers-2016.csv\n",
      "usagers-2017.csv\n",
      "usagers-2018.csv\n",
      "usagers-2019.csv\n",
      "usagers-2020.csv\n",
      "usagers-2021.csv\n",
      "usagers-2022.csv\n"
     ]
    }
   ],
   "source": [
    "# Filter only the files beginning with usagers --> 18 files\n",
    "csv_files = [file for file in files if file.startswith('usagers')]\n",
    "\n",
    "dfs = []\n",
    "tuple_sep_1 = tuple(str(year) + \".csv\" for year in range(2005, 2019))\n",
    "tuple_sep_2 = tuple(str(year) + \".csv\" for year in range(2019, 2023))\n",
    "\n",
    "for file in csv_files:\n",
    "    filepath = os.path.join(directory, file)\n",
    "    print(file)\n",
    "    if file.endswith(tuple_sep_1):\n",
    "        df = pd.read_csv(file, sep=',')\n",
    "    elif file.endswith(tuple_sep_2):\n",
    "        df = pd.read_csv(file, sep=';')\n",
    "    dfs.append(df)\n",
    "\n",
    "merged_df = pd.concat(dfs, ignore_index=True)\n",
    "merged_df.to_csv('usagers_merged.csv', index=False)"
   ]
  },
  {
   "cell_type": "markdown",
   "metadata": {},
   "source": [
    "* (b) 5- vehicules"
   ]
  },
  {
   "cell_type": "code",
   "execution_count": 3,
   "metadata": {},
   "outputs": [
    {
     "name": "stdout",
     "output_type": "stream",
     "text": [
      "vehicules-2005.csv\n",
      "vehicules-2006.csv\n",
      "vehicules-2007.csv\n",
      "vehicules-2008.csv\n",
      "vehicules-2009.csv\n",
      "vehicules-2010.csv\n",
      "vehicules-2011.csv\n",
      "vehicules-2012.csv\n",
      "vehicules-2013.csv\n",
      "vehicules-2014.csv\n",
      "vehicules-2015.csv\n",
      "vehicules-2016.csv\n",
      "vehicules-2017.csv\n",
      "vehicules-2018.csv\n",
      "vehicules-2019.csv\n",
      "vehicules-2020.csv\n",
      "vehicules-2021.csv\n",
      "vehicules-2022.csv\n"
     ]
    }
   ],
   "source": [
    "# Filter only the files beginning with vehicules --> 13 files\n",
    "csv_files = [file for file in files if file.startswith('vehicules')]\n",
    "\n",
    "dfs = []\n",
    "tuple_sep_1 = tuple(str(year) + \".csv\" for year in range(2005, 2019))\n",
    "tuple_sep_2 = tuple(str(year) + \".csv\" for year in range(2019, 2023))\n",
    "\n",
    "for file in csv_files:\n",
    "    filepath = os.path.join(directory, file)\n",
    "    print(file)\n",
    "    if file.endswith(tuple_sep_1):\n",
    "        df = pd.read_csv(file, sep=',')\n",
    "    elif file.endswith(tuple_sep_2):\n",
    "        df = pd.read_csv(file, sep=';')\n",
    "    dfs.append(df)\n",
    "\n",
    "merged_df = pd.concat(dfs, ignore_index=True)\n",
    "merged_df.to_csv('vehicule_merged.csv', index=False)"
   ]
  },
  {
   "cell_type": "markdown",
   "metadata": {},
   "source": [
    "Maintenant que nous avons les 5 fichiers mergés pour les 18 années (sauf pour véhicule immat), nous pouvons merger les 5 fichiers ensemble.\n",
    "\n",
    "* (c) Merging des 5 fichiers\n",
    "\n",
    "> Les jeu de données est splitté en 4 on peut utiliser les clés suivantes pour les jointures:\n",
    "    carac: Num_acc\n",
    "    lieux: Num_acc\n",
    "    usagers: id_usager/id_vehicle\n",
    "    véhicules: id_vehicle\n",
    "\n",
    "D'abord, nous allons lire chacun des fichiers"
   ]
  },
  {
   "cell_type": "code",
   "execution_count": 2,
   "metadata": {},
   "outputs": [
    {
     "name": "stderr",
     "output_type": "stream",
     "text": [
      "C:\\Users\\Gaia\\AppData\\Local\\Temp\\ipykernel_22348\\2121843954.py:1: DtypeWarning: Columns (4,10,12,13,14,15) have mixed types. Specify dtype option on import or set low_memory=False.\n",
      "  carac = pd.read_csv(\"carac_merged.csv\")\n"
     ]
    },
    {
     "name": "stderr",
     "output_type": "stream",
     "text": [
      "C:\\Users\\Gaia\\AppData\\Local\\Temp\\ipykernel_22348\\2121843954.py:2: DtypeWarning: Columns (4,7,8) have mixed types. Specify dtype option on import or set low_memory=False.\n",
      "  immat= pd.read_csv(\"immat_merged.csv\")\n",
      "C:\\Users\\Gaia\\AppData\\Local\\Temp\\ipykernel_22348\\2121843954.py:3: DtypeWarning: Columns (9) have mixed types. Specify dtype option on import or set low_memory=False.\n",
      "  vehicule = pd.read_csv(\"vehicule_merged.csv\")\n",
      "C:\\Users\\Gaia\\AppData\\Local\\Temp\\ipykernel_22348\\2121843954.py:4: DtypeWarning: Columns (8,12,16) have mixed types. Specify dtype option on import or set low_memory=False.\n",
      "  usagers = pd.read_csv(\"usagers_merged.csv\")\n",
      "C:\\Users\\Gaia\\AppData\\Local\\Temp\\ipykernel_22348\\2121843954.py:5: DtypeWarning: Columns (2,6,7,8,12,13) have mixed types. Specify dtype option on import or set low_memory=False.\n",
      "  lieux = pd.read_csv(\"lieux_merged.csv\")\n"
     ]
    }
   ],
   "source": [
    "carac = pd.read_csv(\"carac_merged.csv\")\n",
    "immat= pd.read_csv(\"immat_merged.csv\")\n",
    "vehicule = pd.read_csv(\"vehicule_merged.csv\")\n",
    "usagers = pd.read_csv(\"usagers_merged.csv\")\n",
    "lieux = pd.read_csv(\"lieux_merged.csv\")\n",
    "\n"
   ]
  },
  {
   "cell_type": "markdown",
   "metadata": {},
   "source": [
    "Ensuite, nous décrivons brièvement les fichiers."
   ]
  },
  {
   "cell_type": "code",
   "execution_count": 49,
   "metadata": {},
   "outputs": [
    {
     "data": {
      "text/html": [
       "<div>\n",
       "<style scoped>\n",
       "    .dataframe tbody tr th:only-of-type {\n",
       "        vertical-align: middle;\n",
       "    }\n",
       "\n",
       "    .dataframe tbody tr th {\n",
       "        vertical-align: top;\n",
       "    }\n",
       "\n",
       "    .dataframe thead th {\n",
       "        text-align: right;\n",
       "    }\n",
       "</style>\n",
       "<table border=\"1\" class=\"dataframe\">\n",
       "  <thead>\n",
       "    <tr style=\"text-align: right;\">\n",
       "      <th></th>\n",
       "      <th>Id_accident</th>\n",
       "      <th>Lettre Conventionnelle Véhicule</th>\n",
       "      <th>Année</th>\n",
       "      <th>Lieu Admin Actuel - Territoire Nom</th>\n",
       "      <th>Type Accident - Libellé (old)</th>\n",
       "      <th>CNIT</th>\n",
       "      <th>Catégorie véhicule</th>\n",
       "      <th>Age véhicule</th>\n",
       "      <th>Type Accident - Libellé</th>\n",
       "    </tr>\n",
       "  </thead>\n",
       "  <tbody>\n",
       "    <tr>\n",
       "      <th>0</th>\n",
       "      <td>63 933 550</td>\n",
       "      <td>A</td>\n",
       "      <td>2009</td>\n",
       "      <td>DOM</td>\n",
       "      <td>Accident grave non mortel</td>\n",
       "      <td>NaN</td>\n",
       "      <td>Cyclo</td>\n",
       "      <td>NaN</td>\n",
       "      <td>NaN</td>\n",
       "    </tr>\n",
       "    <tr>\n",
       "      <th>1</th>\n",
       "      <td>63 933 550</td>\n",
       "      <td>B</td>\n",
       "      <td>2009</td>\n",
       "      <td>DOM</td>\n",
       "      <td>Accident grave non mortel</td>\n",
       "      <td>NaN</td>\n",
       "      <td>VT</td>\n",
       "      <td>19</td>\n",
       "      <td>NaN</td>\n",
       "    </tr>\n",
       "    <tr>\n",
       "      <th>2</th>\n",
       "      <td>63 933 551</td>\n",
       "      <td>A</td>\n",
       "      <td>2009</td>\n",
       "      <td>DOM</td>\n",
       "      <td>Accident mortel</td>\n",
       "      <td>MPL51F1FP136</td>\n",
       "      <td>VT</td>\n",
       "      <td>0</td>\n",
       "      <td>NaN</td>\n",
       "    </tr>\n",
       "    <tr>\n",
       "      <th>3</th>\n",
       "      <td>63 933 552</td>\n",
       "      <td>A</td>\n",
       "      <td>2009</td>\n",
       "      <td>DOM</td>\n",
       "      <td>Accident Léger</td>\n",
       "      <td>NaN</td>\n",
       "      <td>Moto lourde</td>\n",
       "      <td>4</td>\n",
       "      <td>NaN</td>\n",
       "    </tr>\n",
       "    <tr>\n",
       "      <th>4</th>\n",
       "      <td>63 933 552</td>\n",
       "      <td>B</td>\n",
       "      <td>2009</td>\n",
       "      <td>DOM</td>\n",
       "      <td>Accident Léger</td>\n",
       "      <td>NaN</td>\n",
       "      <td>VT</td>\n",
       "      <td>2</td>\n",
       "      <td>NaN</td>\n",
       "    </tr>\n",
       "  </tbody>\n",
       "</table>\n",
       "</div>"
      ],
      "text/plain": [
       "  Id_accident Lettre Conventionnelle Véhicule  Année  \\\n",
       "0  63 933 550                               A   2009   \n",
       "1  63 933 550                               B   2009   \n",
       "2  63 933 551                               A   2009   \n",
       "3  63 933 552                               A   2009   \n",
       "4  63 933 552                               B   2009   \n",
       "\n",
       "  Lieu Admin Actuel - Territoire Nom Type Accident - Libellé (old)  \\\n",
       "0                                DOM     Accident grave non mortel   \n",
       "1                                DOM     Accident grave non mortel   \n",
       "2                                DOM               Accident mortel   \n",
       "3                                DOM                Accident Léger   \n",
       "4                                DOM                Accident Léger   \n",
       "\n",
       "           CNIT Catégorie véhicule Age véhicule Type Accident - Libellé  \n",
       "0           NaN              Cyclo          NaN                     NaN  \n",
       "1           NaN                 VT           19                     NaN  \n",
       "2  MPL51F1FP136                 VT            0                     NaN  \n",
       "3           NaN        Moto lourde            4                     NaN  \n",
       "4           NaN                 VT            2                     NaN  "
      ]
     },
     "execution_count": 49,
     "metadata": {},
     "output_type": "execute_result"
    }
   ],
   "source": [
    "carac.head(5) # Num_Acc\n",
    "vehicule.head(5) #Num_Acc\n",
    "usagers.head(5) #Num_Acc\n",
    "lieux.head(5) #Num_Acc\n",
    "\n",
    "\n",
    "immat.head(5) # Id_accident\t--> à voir après"
   ]
  },
  {
   "cell_type": "code",
   "execution_count": 5,
   "metadata": {},
   "outputs": [],
   "source": [
    "merge_accident = pd.merge(carac, lieux, on='Num_Acc')\n",
    "merge_accident = pd.merge(merge_accident, usagers, on='Num_Acc')\n",
    "merge_accident = pd.merge(merge_accident, vehicule, on='Num_Acc')\n"
   ]
  },
  {
   "cell_type": "code",
   "execution_count": 10,
   "metadata": {},
   "outputs": [
    {
     "data": {
      "text/html": [
       "<div>\n",
       "<style scoped>\n",
       "    .dataframe tbody tr th:only-of-type {\n",
       "        vertical-align: middle;\n",
       "    }\n",
       "\n",
       "    .dataframe tbody tr th {\n",
       "        vertical-align: top;\n",
       "    }\n",
       "\n",
       "    .dataframe thead th {\n",
       "        text-align: right;\n",
       "    }\n",
       "</style>\n",
       "<table border=\"1\" class=\"dataframe\">\n",
       "  <thead>\n",
       "    <tr style=\"text-align: right;\">\n",
       "      <th></th>\n",
       "      <th>id_vehicule_y</th>\n",
       "      <th>id_vehicule_x</th>\n",
       "    </tr>\n",
       "  </thead>\n",
       "  <tbody>\n",
       "    <tr>\n",
       "      <th>0</th>\n",
       "      <td>NaN</td>\n",
       "      <td>NaN</td>\n",
       "    </tr>\n",
       "    <tr>\n",
       "      <th>1</th>\n",
       "      <td>NaN</td>\n",
       "      <td>NaN</td>\n",
       "    </tr>\n",
       "    <tr>\n",
       "      <th>2</th>\n",
       "      <td>NaN</td>\n",
       "      <td>NaN</td>\n",
       "    </tr>\n",
       "    <tr>\n",
       "      <th>3</th>\n",
       "      <td>NaN</td>\n",
       "      <td>NaN</td>\n",
       "    </tr>\n",
       "    <tr>\n",
       "      <th>4</th>\n",
       "      <td>NaN</td>\n",
       "      <td>NaN</td>\n",
       "    </tr>\n",
       "    <tr>\n",
       "      <th>...</th>\n",
       "      <td>...</td>\n",
       "      <td>...</td>\n",
       "    </tr>\n",
       "    <tr>\n",
       "      <th>5004838</th>\n",
       "      <td>715 632</td>\n",
       "      <td>715 632</td>\n",
       "    </tr>\n",
       "    <tr>\n",
       "      <th>5004839</th>\n",
       "      <td>715 629</td>\n",
       "      <td>715 629</td>\n",
       "    </tr>\n",
       "    <tr>\n",
       "      <th>5004840</th>\n",
       "      <td>715 630</td>\n",
       "      <td>715 629</td>\n",
       "    </tr>\n",
       "    <tr>\n",
       "      <th>5004841</th>\n",
       "      <td>715 629</td>\n",
       "      <td>715 630</td>\n",
       "    </tr>\n",
       "    <tr>\n",
       "      <th>5004842</th>\n",
       "      <td>715 630</td>\n",
       "      <td>715 630</td>\n",
       "    </tr>\n",
       "  </tbody>\n",
       "</table>\n",
       "<p>5004843 rows × 2 columns</p>\n",
       "</div>"
      ],
      "text/plain": [
       "        id_vehicule_y id_vehicule_x\n",
       "0                 NaN           NaN\n",
       "1                 NaN           NaN\n",
       "2                 NaN           NaN\n",
       "3                 NaN           NaN\n",
       "4                 NaN           NaN\n",
       "...               ...           ...\n",
       "5004838       715 632       715 632\n",
       "5004839       715 629       715 629\n",
       "5004840       715 630       715 629\n",
       "5004841       715 629       715 630\n",
       "5004842       715 630       715 630\n",
       "\n",
       "[5004843 rows x 2 columns]"
      ]
     },
     "metadata": {},
     "output_type": "display_data"
    }
   ],
   "source": [
    "#display(merge_accident[[\"num_veh_y\", \"num_veh_x\"]]) # on a deux colonnes num_vehicule et id_vehicule quand ily a deux voitures impliquées.\n",
    "display(merge_accident[[\"id_vehicule_y\", \"id_vehicule_x\"]])"
   ]
  },
  {
   "cell_type": "markdown",
   "metadata": {},
   "source": [
    "On exporte le dataframe brut pour le partager."
   ]
  },
  {
   "cell_type": "code",
   "execution_count": 11,
   "metadata": {},
   "outputs": [],
   "source": [
    "merge_accident.to_csv(\"raw_data_merged_accident.csv\", sep=',', index=False, encoding='utf-8')"
   ]
  }
 ],
 "metadata": {
  "kernelspec": {
   "display_name": "car_accident_env",
   "language": "python",
   "name": "python3"
  },
  "language_info": {
   "codemirror_mode": {
    "name": "ipython",
    "version": 3
   },
   "file_extension": ".py",
   "mimetype": "text/x-python",
   "name": "python",
   "nbconvert_exporter": "python",
   "pygments_lexer": "ipython3",
   "version": "3.8.19"
  }
 },
 "nbformat": 4,
 "nbformat_minor": 2
}
